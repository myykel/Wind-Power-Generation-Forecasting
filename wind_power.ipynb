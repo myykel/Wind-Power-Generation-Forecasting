{
 "cells": [
  {
   "cell_type": "markdown",
   "id": "91767333",
   "metadata": {},
   "source": [
    "### Project Title\n",
    "\n",
    "Wind Power Generation Forecasting Using Machine Learning"
   ]
  },
  {
   "cell_type": "markdown",
   "id": "95e35240",
   "metadata": {},
   "source": [
    "### Objective\n",
    "\n",
    "We want to predict the Power Output (normalized between 0–1) of a wind turbine given meteorological conditions — such as temperature, wind speed, humidity, and wind direction"
   ]
  },
  {
   "cell_type": "markdown",
   "id": "6929dd34",
   "metadata": {},
   "source": [
    "### Why?\n",
    "- Because predicting power output helps:\n",
    "\n",
    "- Grid operators plan electricity distribution\n",
    "\n",
    "- Wind farm owners optimize turbine operations\n",
    "\n",
    "- Energy markets forecast available renewable energy\n",
    "\n",
    "- This is a regression problem — our target (Power) is continuous, not categorical."
   ]
  },
  {
   "cell_type": "markdown",
   "id": "23cfb5d0",
   "metadata": {},
   "source": [
    "### Import Libraries\n",
    "\n",
    "- pandas: for reading and manipulating data\n",
    "\n",
    "- numpy: for numerical operations\n",
    "\n",
    "- matplotlib/seaborn: for visualization\n",
    "\n",
    "- sklearn: for splitting data, scaling features, training models, and evaluating performance"
   ]
  },
  {
   "cell_type": "code",
   "execution_count": 34,
   "id": "4b712399",
   "metadata": {},
   "outputs": [],
   "source": [
    "import pandas as pd\n",
    "import numpy as np\n",
    "import matplotlib.pyplot as plt\n",
    "import seaborn as sns\n",
    "from sklearn.model_selection import train_test_split\n",
    "from sklearn.preprocessing import StandardScaler\n",
    "from sklearn.ensemble import RandomForestRegressor\n",
    "from sklearn.metrics import mean_squared_error, r2_score\n"
   ]
  },
  {
   "cell_type": "markdown",
   "id": "2f995148",
   "metadata": {},
   "source": [
    "### Load the Dataset\n",
    "\n",
    "Pick one location first (e.g., Location1.csv) <br> <p>\n",
    "We start with one location because each location can have its own model due to the fact that wind conditions vary geographically."
   ]
  },
  {
   "cell_type": "code",
   "execution_count": 35,
   "id": "5a7fdf28",
   "metadata": {},
   "outputs": [
    {
     "data": {
      "text/html": [
       "<div>\n",
       "<style scoped>\n",
       "    .dataframe tbody tr th:only-of-type {\n",
       "        vertical-align: middle;\n",
       "    }\n",
       "\n",
       "    .dataframe tbody tr th {\n",
       "        vertical-align: top;\n",
       "    }\n",
       "\n",
       "    .dataframe thead th {\n",
       "        text-align: right;\n",
       "    }\n",
       "</style>\n",
       "<table border=\"1\" class=\"dataframe\">\n",
       "  <thead>\n",
       "    <tr style=\"text-align: right;\">\n",
       "      <th></th>\n",
       "      <th>Time</th>\n",
       "      <th>temperature_2m</th>\n",
       "      <th>relativehumidity_2m</th>\n",
       "      <th>dewpoint_2m</th>\n",
       "      <th>windspeed_10m</th>\n",
       "      <th>windspeed_100m</th>\n",
       "      <th>winddirection_10m</th>\n",
       "      <th>winddirection_100m</th>\n",
       "      <th>windgusts_10m</th>\n",
       "      <th>Power</th>\n",
       "    </tr>\n",
       "  </thead>\n",
       "  <tbody>\n",
       "    <tr>\n",
       "      <th>0</th>\n",
       "      <td>2017-01-02 00:00:00</td>\n",
       "      <td>28.5</td>\n",
       "      <td>85</td>\n",
       "      <td>24.5</td>\n",
       "      <td>1.44</td>\n",
       "      <td>1.26</td>\n",
       "      <td>146</td>\n",
       "      <td>162</td>\n",
       "      <td>1.4</td>\n",
       "      <td>0.1635</td>\n",
       "    </tr>\n",
       "    <tr>\n",
       "      <th>1</th>\n",
       "      <td>2017-01-02 01:00:00</td>\n",
       "      <td>28.4</td>\n",
       "      <td>86</td>\n",
       "      <td>24.7</td>\n",
       "      <td>2.06</td>\n",
       "      <td>3.99</td>\n",
       "      <td>151</td>\n",
       "      <td>158</td>\n",
       "      <td>4.4</td>\n",
       "      <td>0.1424</td>\n",
       "    </tr>\n",
       "    <tr>\n",
       "      <th>2</th>\n",
       "      <td>2017-01-02 02:00:00</td>\n",
       "      <td>26.8</td>\n",
       "      <td>91</td>\n",
       "      <td>24.5</td>\n",
       "      <td>1.30</td>\n",
       "      <td>2.78</td>\n",
       "      <td>148</td>\n",
       "      <td>150</td>\n",
       "      <td>3.2</td>\n",
       "      <td>0.1214</td>\n",
       "    </tr>\n",
       "    <tr>\n",
       "      <th>3</th>\n",
       "      <td>2017-01-02 03:00:00</td>\n",
       "      <td>27.4</td>\n",
       "      <td>88</td>\n",
       "      <td>24.3</td>\n",
       "      <td>1.30</td>\n",
       "      <td>2.69</td>\n",
       "      <td>58</td>\n",
       "      <td>105</td>\n",
       "      <td>1.6</td>\n",
       "      <td>0.1003</td>\n",
       "    </tr>\n",
       "    <tr>\n",
       "      <th>4</th>\n",
       "      <td>2017-01-02 04:00:00</td>\n",
       "      <td>27.3</td>\n",
       "      <td>88</td>\n",
       "      <td>24.1</td>\n",
       "      <td>2.47</td>\n",
       "      <td>4.43</td>\n",
       "      <td>58</td>\n",
       "      <td>84</td>\n",
       "      <td>4.0</td>\n",
       "      <td>0.0793</td>\n",
       "    </tr>\n",
       "  </tbody>\n",
       "</table>\n",
       "</div>"
      ],
      "text/plain": [
       "                  Time  temperature_2m  relativehumidity_2m  dewpoint_2m  \\\n",
       "0  2017-01-02 00:00:00            28.5                   85         24.5   \n",
       "1  2017-01-02 01:00:00            28.4                   86         24.7   \n",
       "2  2017-01-02 02:00:00            26.8                   91         24.5   \n",
       "3  2017-01-02 03:00:00            27.4                   88         24.3   \n",
       "4  2017-01-02 04:00:00            27.3                   88         24.1   \n",
       "\n",
       "   windspeed_10m  windspeed_100m  winddirection_10m  winddirection_100m  \\\n",
       "0           1.44            1.26                146                 162   \n",
       "1           2.06            3.99                151                 158   \n",
       "2           1.30            2.78                148                 150   \n",
       "3           1.30            2.69                 58                 105   \n",
       "4           2.47            4.43                 58                  84   \n",
       "\n",
       "   windgusts_10m   Power  \n",
       "0            1.4  0.1635  \n",
       "1            4.4  0.1424  \n",
       "2            3.2  0.1214  \n",
       "3            1.6  0.1003  \n",
       "4            4.0  0.0793  "
      ]
     },
     "execution_count": 35,
     "metadata": {},
     "output_type": "execute_result"
    }
   ],
   "source": [
    "df = pd.read_csv(\"Location1.csv\")\n",
    "df.head()"
   ]
  },
  {
   "cell_type": "markdown",
   "id": "8f46b89d",
   "metadata": {},
   "source": [
    "### Explore the Data\n",
    "\n",
    "We want to understand:\n",
    "\n",
    "1. Number of rows and columns\n",
    "\n",
    "2. Data types (float, int, etc.)\n",
    "\n",
    "3. Missing values\n",
    "\n",
    "4. Value ranges\n",
    "\n",
    "This tells us what preprocessing steps are required (like scaling or filling missing values)."
   ]
  },
  {
   "cell_type": "code",
   "execution_count": 36,
   "id": "982e205e",
   "metadata": {},
   "outputs": [
    {
     "name": "stdout",
     "output_type": "stream",
     "text": [
      "(43800, 10)\n",
      "Index(['Time', 'temperature_2m', 'relativehumidity_2m', 'dewpoint_2m',\n",
      "       'windspeed_10m', 'windspeed_100m', 'winddirection_10m',\n",
      "       'winddirection_100m', 'windgusts_10m', 'Power'],\n",
      "      dtype='object')\n",
      "<class 'pandas.core.frame.DataFrame'>\n",
      "RangeIndex: 43800 entries, 0 to 43799\n",
      "Data columns (total 10 columns):\n",
      " #   Column               Non-Null Count  Dtype  \n",
      "---  ------               --------------  -----  \n",
      " 0   Time                 43800 non-null  object \n",
      " 1   temperature_2m       43800 non-null  float64\n",
      " 2   relativehumidity_2m  43800 non-null  int64  \n",
      " 3   dewpoint_2m          43800 non-null  float64\n",
      " 4   windspeed_10m        43800 non-null  float64\n",
      " 5   windspeed_100m       43800 non-null  float64\n",
      " 6   winddirection_10m    43800 non-null  int64  \n",
      " 7   winddirection_100m   43800 non-null  int64  \n",
      " 8   windgusts_10m        43800 non-null  float64\n",
      " 9   Power                43800 non-null  float64\n",
      "dtypes: float64(6), int64(3), object(1)\n",
      "memory usage: 3.3+ MB\n"
     ]
    },
    {
     "data": {
      "text/html": [
       "<div>\n",
       "<style scoped>\n",
       "    .dataframe tbody tr th:only-of-type {\n",
       "        vertical-align: middle;\n",
       "    }\n",
       "\n",
       "    .dataframe tbody tr th {\n",
       "        vertical-align: top;\n",
       "    }\n",
       "\n",
       "    .dataframe thead th {\n",
       "        text-align: right;\n",
       "    }\n",
       "</style>\n",
       "<table border=\"1\" class=\"dataframe\">\n",
       "  <thead>\n",
       "    <tr style=\"text-align: right;\">\n",
       "      <th></th>\n",
       "      <th>temperature_2m</th>\n",
       "      <th>relativehumidity_2m</th>\n",
       "      <th>dewpoint_2m</th>\n",
       "      <th>windspeed_10m</th>\n",
       "      <th>windspeed_100m</th>\n",
       "      <th>winddirection_10m</th>\n",
       "      <th>winddirection_100m</th>\n",
       "      <th>windgusts_10m</th>\n",
       "      <th>Power</th>\n",
       "    </tr>\n",
       "  </thead>\n",
       "  <tbody>\n",
       "    <tr>\n",
       "      <th>count</th>\n",
       "      <td>43800.000000</td>\n",
       "      <td>43800.000000</td>\n",
       "      <td>43800.000000</td>\n",
       "      <td>43800.000000</td>\n",
       "      <td>43800.000000</td>\n",
       "      <td>43800.000000</td>\n",
       "      <td>43800.000000</td>\n",
       "      <td>43800.000000</td>\n",
       "      <td>43800.000000</td>\n",
       "    </tr>\n",
       "    <tr>\n",
       "      <th>mean</th>\n",
       "      <td>47.862911</td>\n",
       "      <td>72.288744</td>\n",
       "      <td>38.569308</td>\n",
       "      <td>3.591147</td>\n",
       "      <td>6.284431</td>\n",
       "      <td>203.637329</td>\n",
       "      <td>203.343676</td>\n",
       "      <td>7.771795</td>\n",
       "      <td>0.405385</td>\n",
       "    </tr>\n",
       "    <tr>\n",
       "      <th>std</th>\n",
       "      <td>19.453691</td>\n",
       "      <td>16.852287</td>\n",
       "      <td>18.772110</td>\n",
       "      <td>1.649318</td>\n",
       "      <td>2.685216</td>\n",
       "      <td>96.371262</td>\n",
       "      <td>97.959852</td>\n",
       "      <td>3.569147</td>\n",
       "      <td>0.288322</td>\n",
       "    </tr>\n",
       "    <tr>\n",
       "      <th>min</th>\n",
       "      <td>-14.400000</td>\n",
       "      <td>18.000000</td>\n",
       "      <td>-17.100000</td>\n",
       "      <td>0.000000</td>\n",
       "      <td>0.100000</td>\n",
       "      <td>1.000000</td>\n",
       "      <td>0.000000</td>\n",
       "      <td>0.500000</td>\n",
       "      <td>0.000000</td>\n",
       "    </tr>\n",
       "    <tr>\n",
       "      <th>25%</th>\n",
       "      <td>32.100000</td>\n",
       "      <td>60.000000</td>\n",
       "      <td>24.300000</td>\n",
       "      <td>2.410000</td>\n",
       "      <td>4.380000</td>\n",
       "      <td>132.000000</td>\n",
       "      <td>130.000000</td>\n",
       "      <td>5.000000</td>\n",
       "      <td>0.148900</td>\n",
       "    </tr>\n",
       "    <tr>\n",
       "      <th>50%</th>\n",
       "      <td>47.300000</td>\n",
       "      <td>74.000000</td>\n",
       "      <td>38.100000</td>\n",
       "      <td>3.300000</td>\n",
       "      <td>6.080000</td>\n",
       "      <td>225.000000</td>\n",
       "      <td>226.000000</td>\n",
       "      <td>7.200000</td>\n",
       "      <td>0.347650</td>\n",
       "    </tr>\n",
       "    <tr>\n",
       "      <th>75%</th>\n",
       "      <td>64.500000</td>\n",
       "      <td>86.000000</td>\n",
       "      <td>54.700000</td>\n",
       "      <td>4.590000</td>\n",
       "      <td>7.990000</td>\n",
       "      <td>277.000000</td>\n",
       "      <td>278.000000</td>\n",
       "      <td>10.000000</td>\n",
       "      <td>0.659600</td>\n",
       "    </tr>\n",
       "    <tr>\n",
       "      <th>max</th>\n",
       "      <td>94.100000</td>\n",
       "      <td>100.000000</td>\n",
       "      <td>76.300000</td>\n",
       "      <td>13.450000</td>\n",
       "      <td>20.650000</td>\n",
       "      <td>360.000000</td>\n",
       "      <td>360.000000</td>\n",
       "      <td>29.200000</td>\n",
       "      <td>0.991300</td>\n",
       "    </tr>\n",
       "  </tbody>\n",
       "</table>\n",
       "</div>"
      ],
      "text/plain": [
       "       temperature_2m  relativehumidity_2m   dewpoint_2m  windspeed_10m  \\\n",
       "count    43800.000000         43800.000000  43800.000000   43800.000000   \n",
       "mean        47.862911            72.288744     38.569308       3.591147   \n",
       "std         19.453691            16.852287     18.772110       1.649318   \n",
       "min        -14.400000            18.000000    -17.100000       0.000000   \n",
       "25%         32.100000            60.000000     24.300000       2.410000   \n",
       "50%         47.300000            74.000000     38.100000       3.300000   \n",
       "75%         64.500000            86.000000     54.700000       4.590000   \n",
       "max         94.100000           100.000000     76.300000      13.450000   \n",
       "\n",
       "       windspeed_100m  winddirection_10m  winddirection_100m  windgusts_10m  \\\n",
       "count    43800.000000       43800.000000        43800.000000   43800.000000   \n",
       "mean         6.284431         203.637329          203.343676       7.771795   \n",
       "std          2.685216          96.371262           97.959852       3.569147   \n",
       "min          0.100000           1.000000            0.000000       0.500000   \n",
       "25%          4.380000         132.000000          130.000000       5.000000   \n",
       "50%          6.080000         225.000000          226.000000       7.200000   \n",
       "75%          7.990000         277.000000          278.000000      10.000000   \n",
       "max         20.650000         360.000000          360.000000      29.200000   \n",
       "\n",
       "              Power  \n",
       "count  43800.000000  \n",
       "mean       0.405385  \n",
       "std        0.288322  \n",
       "min        0.000000  \n",
       "25%        0.148900  \n",
       "50%        0.347650  \n",
       "75%        0.659600  \n",
       "max        0.991300  "
      ]
     },
     "execution_count": 36,
     "metadata": {},
     "output_type": "execute_result"
    }
   ],
   "source": [
    "print(df.shape)\n",
    "print(df.columns)\n",
    "df.info()\n",
    "df.describe()"
   ]
  },
  {
   "cell_type": "markdown",
   "id": "93cbc8a6",
   "metadata": {},
   "source": [
    "### Handle Missing Values\n",
    "\n",
    "ML models don’t handle missing values well — they need complete data. <br>\n",
    "Median imputation is robust against outliers and works well for numeric data."
   ]
  },
  {
   "cell_type": "code",
   "execution_count": 37,
   "id": "253b5f65",
   "metadata": {},
   "outputs": [
    {
     "name": "stdout",
     "output_type": "stream",
     "text": [
      "Time                   0\n",
      "temperature_2m         0\n",
      "relativehumidity_2m    0\n",
      "dewpoint_2m            0\n",
      "windspeed_10m          0\n",
      "windspeed_100m         0\n",
      "winddirection_10m      0\n",
      "winddirection_100m     0\n",
      "windgusts_10m          0\n",
      "Power                  0\n",
      "dtype: int64\n"
     ]
    }
   ],
   "source": [
    "print(df.isnull().sum())\n",
    "\n",
    "# Replace missing numeric values with the column median\n",
    "#df = df.fillna(df.median())\n",
    "# Separate numeric and non-numeric columns\n",
    "numeric_cols = df.select_dtypes(include=[np.number]).columns\n",
    "\n",
    "# Fill missing numeric values with their column median\n",
    "df[numeric_cols] = df[numeric_cols].fillna(df[numeric_cols].median())\n",
    "\n",
    "# Optionally fill non-numeric columns with mode (most common value)\n",
    "non_numeric_cols = df.select_dtypes(exclude=[np.number]).columns\n",
    "df[non_numeric_cols] = df[non_numeric_cols].fillna(df[non_numeric_cols].mode().iloc[0])\n",
    "\n"
   ]
  },
  {
   "cell_type": "markdown",
   "id": "3003da63",
   "metadata": {},
   "source": [
    "### Feature Engineering\n",
    "The dataset contains wind direction in degrees (0–360), but:\n",
    "\n",
    "- 0° and 360° represent the same direction, so this isn’t linear.\n",
    "\n",
    "- We can represent direction using sine and cosine to capture circularity.\n",
    "\n",
    "Converting directions using sin/cos avoids false discontinuities (e.g., between 0° and 360°). <br>\n",
    "\n",
    "These features help models capture how direction influences turbine efficiency."
   ]
  },
  {
   "cell_type": "code",
   "execution_count": 38,
   "id": "b04dbc2d",
   "metadata": {},
   "outputs": [],
   "source": [
    "# Convert direction degrees to radians\n",
    "df['winddir_10m_rad'] = np.deg2rad(df['winddirection_10m'])\n",
    "df['winddir_100m_rad'] = np.deg2rad(df['winddirection_100m'])\n",
    "\n",
    "# Convert to sine and cosine components\n",
    "df['winddir_10m_sin'] = np.sin(df['winddir_10m_rad'])\n",
    "df['winddir_10m_cos'] = np.cos(df['winddir_10m_rad'])\n",
    "df['winddir_100m_sin'] = np.sin(df['winddir_100m_rad'])\n",
    "df['winddir_100m_cos'] = np.cos(df['winddir_100m_rad'])\n",
    "\n",
    "# Drop the original direction columns\n",
    "df.drop(['winddirection_10m', 'winddirection_100m', 'winddir_10m_rad', 'winddir_100m_rad'], axis=1, inplace=True)\n"
   ]
  },
  {
   "cell_type": "markdown",
   "id": "e457e009",
   "metadata": {},
   "source": [
    "### Extract time features\n",
    "\n",
    "We don’t scale or model the Time column directly. Instead, we extract meaningful time features (hour, month, etc.) and then drop the raw text column.\n",
    "\n",
    "The scaler can’t “standardize” a date string\n",
    "\n",
    "The raw timestamp itself doesn’t carry useful information to the model.\n",
    "But its components (hour, day, month, etc.) capture daily and seasonal patterns in wind power:\n"
   ]
  },
  {
   "cell_type": "code",
   "execution_count": 39,
   "id": "81490131",
   "metadata": {},
   "outputs": [],
   "source": [
    "# Convert Time column to datetime\n",
    "df['Time'] = pd.to_datetime(df['Time'])\n",
    "\n",
    "# Extract useful time features\n",
    "df['hour'] = df['Time'].dt.hour\n",
    "df['month'] = df['Time'].dt.month\n",
    "df['dayofweek'] = df['Time'].dt.dayofweek\n",
    "\n",
    "# Drop the original Time column (non-numeric)\n",
    "df.drop(columns=['Time'], inplace=True)\n"
   ]
  },
  {
   "cell_type": "markdown",
   "id": "8a31d45e",
   "metadata": {},
   "source": [
    "### Define Features and Target\n",
    "\n",
    "X = input features (wind, temperature, humidity, etc.)\n",
    "\n",
    "y = target we want to predict (turbine power output)"
   ]
  },
  {
   "cell_type": "code",
   "execution_count": 40,
   "id": "9b69c452",
   "metadata": {},
   "outputs": [],
   "source": [
    "X = df.drop('Power', axis=1)\n",
    "y = df['Power']\n"
   ]
  },
  {
   "cell_type": "markdown",
   "id": "4f10e4d9",
   "metadata": {},
   "source": [
    "### Split Data\n",
    "\n",
    "We train the model on 80% of data and test it on 20% unseen data to measure generalization. <br>\n",
    "Random seed ensures reproducibility."
   ]
  },
  {
   "cell_type": "code",
   "execution_count": 41,
   "id": "bcbb3bae",
   "metadata": {},
   "outputs": [],
   "source": [
    "X_train, X_test, y_train, y_test = train_test_split(X, y, test_size=0.2, random_state=42)"
   ]
  },
  {
   "cell_type": "markdown",
   "id": "4bc5344d",
   "metadata": {},
   "source": [
    "### Scale Features\n",
    "\n",
    "Wind speeds, temperatures, and humidity have different numeric ranges. <br>\n",
    "Scaling ensures all features contribute equally to the model.\n",
    "(StandardScaler → mean=0, std=1)\n"
   ]
  },
  {
   "cell_type": "code",
   "execution_count": 42,
   "id": "eba448e1",
   "metadata": {},
   "outputs": [],
   "source": [
    "scaler = StandardScaler()\n",
    "X_train_scaled = scaler.fit_transform(X_train)\n",
    "X_test_scaled = scaler.transform(X_test)\n"
   ]
  },
  {
   "cell_type": "markdown",
   "id": "819da6f6",
   "metadata": {},
   "source": [
    "### Train a Model\n",
    "\n",
    "Let’s start with a Random Forest Regressor.\n",
    "\n",
    "Random Forests are robust, nonlinear, and handle feature interactions well.\n",
    "\n",
    "They automatically capture complex relationships (e.g., how temperature + wind speed affect power)."
   ]
  },
  {
   "cell_type": "code",
   "execution_count": null,
   "id": "9e84d1dc",
   "metadata": {},
   "outputs": [],
   "source": [
    "rf = RandomForestRegressor(\n",
    "    n_estimators=200,  # number of trees\n",
    "    max_depth=None,    # trees grow fully\n",
    "    random_state=42\n",
    ")\n",
    "rf.fit(X_train_scaled, y_train)\n"
   ]
  },
  {
   "cell_type": "markdown",
   "id": "b379d358",
   "metadata": {},
   "source": [
    "### Evaluate the Model\n",
    "\n",
    "RMSE: how far predictions are from actual values (lower = better). <br>\n",
    "Essentially RMSE means — “How far off are my predictions?”\n",
    "\n",
    "Every prediction is a little off — some too high, some too low.\n",
    "\n",
    "Now:\n",
    "\n",
    "- RMSE takes all those differences (errors),\n",
    "\n",
    "- squares them (so negatives don’t cancel out positives),\n",
    "\n",
    "- averages them,\n",
    "\n",
    "- and then takes the square root <p>\n",
    "\n",
    "R²: how much variance the model explains (1 = perfect fit, 0 = no relationship)\n",
    "Essentially R² means — “How much of the pattern did my model learn?”\n",
    "\n",
    "R² (R-squared) measures how well your model explains the changes in the data.\n",
    "\n",
    "R² = 0.76 That means: <br>\n",
    "Your model can explain about 76% of the changes in power output based on weather conditions.\n",
    "\n",
    "\n",
    "| Metric          | What It Means                        | How You Did | Plain English                                                       |\n",
    "| --------------- | ------------------------------------ | ----------- | ------------------------------------------------------------------- |\n",
    "| **RMSE = 0.14** | Average prediction error (0–1 scale) | Low = good  | “My guesses are usually within about 14% of the true power.”        |\n",
    "| **R² = 0.76**   | % of data pattern captured           | High = good | “I’ve understood about 3/4 of what causes changes in power output.” |\n"
   ]
  },
  {
   "cell_type": "code",
   "execution_count": null,
   "id": "1986312a",
   "metadata": {},
   "outputs": [
    {
     "name": "stdout",
     "output_type": "stream",
     "text": [
      "Root Mean Squared Error: 0.14065430481515986\n",
      "R² Score: 0.7609300249889654\n"
     ]
    }
   ],
   "source": [
    "y_pred = rf.predict(X_test_scaled)\n",
    "\n",
    "rmse = np.sqrt(mean_squared_error(y_test, y_pred))\n",
    "r2 = r2_score(y_test, y_pred)\n",
    "\n",
    "print(\"Root Mean Squared Error:\", rmse)\n",
    "print(\"R² Score:\", r2)\n"
   ]
  },
  {
   "cell_type": "markdown",
   "id": "b2528eff",
   "metadata": {},
   "source": [
    "### Interpret the Model\n",
    "\n",
    "Feature importance tells us which variables drive turbine power most — usually windspeed_100m or gusts.\n",
    "This is crucial for operational insights (e.g., “wind speed at 100m explains 80% of output”)."
   ]
  },
  {
   "cell_type": "code",
   "execution_count": null,
   "id": "4f4b7537",
   "metadata": {},
   "outputs": [
    {
     "data": {
      "image/png": "[encoded data removed]",
      "text/plain": [
       "<Figure size 640x480 with 1 Axes>"
      ]
     },
     "metadata": {},
     "output_type": "display_data"
    }
   ],
   "source": [
    "importances = pd.Series(rf.feature_importances_, index=X.columns)\n",
    "importances.sort_values(ascending=False).head(10).plot(kind='barh', color='skyblue')\n",
    "plt.title(\"Top 10 Important Features\")\n",
    "plt.show()\n"
   ]
  },
  {
   "cell_type": "markdown",
   "id": "17d37b69",
   "metadata": {},
   "source": [
    "### Predict on New Data\n",
    "\n",
    "The trained model can now forecast power for future conditions.\n",
    "\n",
    "This is the core deliverable of your project."
   ]
  },
  {
   "cell_type": "code",
   "execution_count": null,
   "id": "4ead66c5",
   "metadata": {},
   "outputs": [
    {
     "name": "stdout",
     "output_type": "stream",
     "text": [
      "✅ new_conditions.csv created!\n"
     ]
    }
   ],
   "source": [
    "import pandas as pd\n",
    "\n",
    "# Simulated “today’s weather” input for prediction\n",
    "data = {\n",
    "    'temperature_2m': [60.0],\n",
    "    'relativehumidity_2m': [70.0],\n",
    "    'dewpoint_2m': [52.0],\n",
    "    'windspeed_10m': [8.5],\n",
    "    'windspeed_100m': [10.2],\n",
    "    'winddirection_10m': [240],\n",
    "    'winddirection_100m': [245],\n",
    "    'windgusts_10m': [12.1]\n",
    "}\n",
    "\n",
    "new_data = pd.DataFrame(data)\n",
    "new_data.to_csv(\"new_conditions.csv\", index=False)\n",
    "print(\"✅ new_conditions.csv created!\")\n"
   ]
  },
  {
   "cell_type": "code",
   "execution_count": null,
   "id": "b8a7ea44",
   "metadata": {},
   "outputs": [
    {
     "name": "stdout",
     "output_type": "stream",
     "text": [
      "✅ Model and scaler saved successfully!\n"
     ]
    }
   ],
   "source": [
    "import joblib\n",
    "\n",
    "# Save the trained Random Forest model\n",
    "joblib.dump(rf, \"rf_model.pkl\",compress=3)\n",
    "\n",
    "# Save the fitted scaler\n",
    "joblib.dump(scaler, \"scaler.pkl\")\n",
    "\n",
    "print(\"✅ Model and scaler saved successfully!\")\n"
   ]
  },
  {
   "cell_type": "code",
   "execution_count": null,
   "id": "373da89f",
   "metadata": {},
   "outputs": [
    {
     "name": "stdout",
     "output_type": "stream",
     "text": [
      "✅ Prediction complete! Check predicted_output.csv\n",
      "   Predicted_Power\n",
      "0         0.582354\n"
     ]
    }
   ],
   "source": [
    "import pandas as pd\n",
    "import numpy as np\n",
    "import joblib\n",
    "\n",
    "# Load model and scaler\n",
    "rf = joblib.load(\"rf_model.pkl\")\n",
    "scaler = joblib.load(\"scaler.pkl\")\n",
    "\n",
    "# Load new data\n",
    "new_data = pd.read_csv(\"new_conditions.csv\")\n",
    "\n",
    "# -----------------------------\n",
    "# 1️⃣ Apply the same preprocessing as training\n",
    "# -----------------------------\n",
    "\n",
    "# Convert directions to sin/cos (since model used these)\n",
    "new_data['winddir_10m_rad'] = np.radians(new_data['winddirection_10m'])\n",
    "new_data['winddir_100m_rad'] = np.radians(new_data['winddirection_100m'])\n",
    "\n",
    "new_data['winddir_10m_sin'] = np.sin(new_data['winddir_10m_rad'])\n",
    "new_data['winddir_10m_cos'] = np.cos(new_data['winddir_10m_rad'])\n",
    "new_data['winddir_100m_sin'] = np.sin(new_data['winddir_100m_rad'])\n",
    "new_data['winddir_100m_cos'] = np.cos(new_data['winddir_100m_rad'])\n",
    "\n",
    "# Drop unnecessary columns\n",
    "new_data = new_data.drop(columns=['winddirection_10m', 'winddirection_100m',\n",
    "                                  'winddir_10m_rad', 'winddir_100m_rad'])\n",
    "\n",
    "\n",
    "# -----------------------------\n",
    "# 2️⃣ Ensure feature alignment\n",
    "# -----------------------------\n",
    "# Get column names the model was trained on\n",
    "trained_features = scaler.feature_names_in_\n",
    "\n",
    "# Add any missing columns (set them to 0)\n",
    "for col in trained_features:\n",
    "    if col not in new_data.columns:\n",
    "        new_data[col] = 0\n",
    "\n",
    "# Drop extra columns (keep only what model expects)\n",
    "new_data = new_data[trained_features]\n",
    "\n",
    "# -----------------------------\n",
    "# 3️⃣ Scale & Predict\n",
    "# -----------------------------\n",
    "new_scaled = scaler.transform(new_data)\n",
    "predicted_power = rf.predict(new_scaled)\n",
    "\n",
    "# -----------------------------\n",
    "# 4️⃣ Save and display\n",
    "# -----------------------------\n",
    "new_data['Predicted_Power'] = predicted_power\n",
    "new_data.to_csv(\"predicted_output.csv\", index=False)\n",
    "print(\"✅ Prediction complete! Check predicted_output.csv\")\n",
    "print(new_data[['Predicted_Power']])\n"
   ]
  }
 ],
 "metadata": {
  "kernelspec": {
   "display_name": "Python 3",
   "language": "python",
   "name": "python3"
  },
  "language_info": {
   "codemirror_mode": {
    "name": "ipython",
    "version": 3
   },
   "file_extension": ".py",
   "mimetype": "text/x-python",
   "name": "python",
   "nbconvert_exporter": "python",
   "pygments_lexer": "ipython3",
   "version": "3.13.3"
  }
 },
 "nbformat": 4,
 "nbformat_minor": 5
}
